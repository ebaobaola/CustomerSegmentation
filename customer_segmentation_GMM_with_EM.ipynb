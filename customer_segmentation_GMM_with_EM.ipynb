{
 "cells": [
  {
   "cell_type": "code",
   "execution_count": 1,
   "metadata": {
    "collapsed": true
   },
   "outputs": [],
   "source": [
    "import numpy as np\n",
    "import pandas as pd\n",
    "import matplotlib.pyplot as plt\n",
    "import seaborn as sns\n",
    "sns.set(style=\"whitegrid\", color_codes=True)\n",
    "%matplotlib inline\n",
    "\n",
    "sns.set_context(\"notebook\", font_scale=1.1)\n",
    "sns.set_style(\"ticks\")"
   ]
  },
  {
   "cell_type": "markdown",
   "metadata": {},
   "source": [
    "Below is the outline for this notebook:\n",
    "* <a href='#load'>Load the Data</a>\n",
    "* <a href='#first'>First Iteration of E Step and M Step</a>\n",
    "* <a href='#second'>Second Iteration of E Step and M Step</a>\n",
    "* <a href='#third'>Third Iteration of E Step and M Step</a>\n",
    "* <a href='#general'>The Iterative Process</a>\n",
    "* <a href='#business'>Additional Analysis of Clusters and Business Findings</a>\n",
    "* <a href='#other'>Other Applications</a>\n",
    "* <a href='#sources'>Sources</a>"
   ]
  },
  {
   "cell_type": "markdown",
   "metadata": {},
   "source": [
    "# Load the Data <a id='load'></a>"
   ]
  },
  {
   "cell_type": "markdown",
   "metadata": {},
   "source": [
    "The synthesized dataset contains both information on marketing newsletters/e-mail campaigns (e-mail offers sent) and transaction level data from customers (which offer customers responded to and what they bought).\n",
    "\n",
    "The marketing campaign focused on two aspects of an insurance product: amount of premium savings the customer can receive if he/she chooses the product, and the closeness and accessibility to an insurance agent in the same neighborhood.  The level of focuses on each of the aspect is ranked from 0 to 10."
   ]
  },
  {
   "cell_type": "code",
   "execution_count": 4,
   "metadata": {
    "collapsed": false
   },
   "outputs": [
    {
     "data": {
      "text/html": [
       "<div>\n",
       "<table border=\"1\" class=\"dataframe\">\n",
       "  <thead>\n",
       "    <tr style=\"text-align: right;\">\n",
       "      <th></th>\n",
       "      <th>offer_id</th>\n",
       "      <th>campaign</th>\n",
       "      <th>product_type</th>\n",
       "      <th>level_emphasis_premium_savings</th>\n",
       "      <th>level_emphasis_neighborhood_agent</th>\n",
       "    </tr>\n",
       "  </thead>\n",
       "  <tbody>\n",
       "    <tr>\n",
       "      <th>0</th>\n",
       "      <td>1</td>\n",
       "      <td>January</td>\n",
       "      <td>Product 1</td>\n",
       "      <td>7</td>\n",
       "      <td>5</td>\n",
       "    </tr>\n",
       "    <tr>\n",
       "      <th>1</th>\n",
       "      <td>2</td>\n",
       "      <td>January</td>\n",
       "      <td>Product 2</td>\n",
       "      <td>7</td>\n",
       "      <td>1</td>\n",
       "    </tr>\n",
       "    <tr>\n",
       "      <th>2</th>\n",
       "      <td>3</td>\n",
       "      <td>February</td>\n",
       "      <td>Product 3</td>\n",
       "      <td>10</td>\n",
       "      <td>3</td>\n",
       "    </tr>\n",
       "    <tr>\n",
       "      <th>3</th>\n",
       "      <td>4</td>\n",
       "      <td>February</td>\n",
       "      <td>Product 4</td>\n",
       "      <td>7</td>\n",
       "      <td>4</td>\n",
       "    </tr>\n",
       "    <tr>\n",
       "      <th>4</th>\n",
       "      <td>5</td>\n",
       "      <td>February</td>\n",
       "      <td>Product 5</td>\n",
       "      <td>10</td>\n",
       "      <td>4</td>\n",
       "    </tr>\n",
       "  </tbody>\n",
       "</table>\n",
       "</div>"
      ],
      "text/plain": [
       "   offer_id  campaign product_type  level_emphasis_premium_savings  \\\n",
       "0         1   January    Product 1                               7   \n",
       "1         2   January    Product 2                               7   \n",
       "2         3  February    Product 3                              10   \n",
       "3         4  February    Product 4                               7   \n",
       "4         5  February    Product 5                              10   \n",
       "\n",
       "   level_emphasis_neighborhood_agent  \n",
       "0                                  5  \n",
       "1                                  1  \n",
       "2                                  3  \n",
       "3                                  4  \n",
       "4                                  4  "
      ]
     },
     "execution_count": 4,
     "metadata": {},
     "output_type": "execute_result"
    }
   ],
   "source": [
    "df_offers = pd.read_excel(\"./Insurance Product Offering.xlsx\", sheetname=0)\n",
    "df_offers.columns = [\"offer_id\", \"campaign\", \"product_type\", \"level_emphasis_premium_savings\", \\\n",
    "                     \"level_emphasis_neighborhood_agent\"]\n",
    "df_offers.head()"
   ]
  },
  {
   "cell_type": "markdown",
   "metadata": {},
   "source": [
    "The responses tab in the spreadsheet shows which offer the customer responded to or expressed interest in.  In addition to the customer_name and offer_id columns that come with the spreadsheet, we also added a column 'n' that is always 1."
   ]
  },
  {
   "cell_type": "code",
   "execution_count": 7,
   "metadata": {
    "collapsed": false
   },
   "outputs": [
    {
     "data": {
      "text/html": [
       "<div>\n",
       "<table border=\"1\" class=\"dataframe\">\n",
       "  <thead>\n",
       "    <tr style=\"text-align: right;\">\n",
       "      <th></th>\n",
       "      <th>customer_name</th>\n",
       "      <th>offer_id</th>\n",
       "      <th>n</th>\n",
       "    </tr>\n",
       "  </thead>\n",
       "  <tbody>\n",
       "    <tr>\n",
       "      <th>0</th>\n",
       "      <td>Smith</td>\n",
       "      <td>2</td>\n",
       "      <td>1</td>\n",
       "    </tr>\n",
       "    <tr>\n",
       "      <th>1</th>\n",
       "      <td>Smith</td>\n",
       "      <td>24</td>\n",
       "      <td>1</td>\n",
       "    </tr>\n",
       "    <tr>\n",
       "      <th>2</th>\n",
       "      <td>Johnson</td>\n",
       "      <td>17</td>\n",
       "      <td>1</td>\n",
       "    </tr>\n",
       "    <tr>\n",
       "      <th>3</th>\n",
       "      <td>Johnson</td>\n",
       "      <td>24</td>\n",
       "      <td>1</td>\n",
       "    </tr>\n",
       "    <tr>\n",
       "      <th>4</th>\n",
       "      <td>Johnson</td>\n",
       "      <td>26</td>\n",
       "      <td>1</td>\n",
       "    </tr>\n",
       "  </tbody>\n",
       "</table>\n",
       "</div>"
      ],
      "text/plain": [
       "  customer_name  offer_id  n\n",
       "0         Smith         2  1\n",
       "1         Smith        24  1\n",
       "2       Johnson        17  1\n",
       "3       Johnson        24  1\n",
       "4       Johnson        26  1"
      ]
     },
     "execution_count": 7,
     "metadata": {},
     "output_type": "execute_result"
    }
   ],
   "source": [
    "df_responses = pd.read_excel(\"./Insurance Product Offering.xlsx\", sheetname=1)\n",
    "df_responses.columns = [\"customer_name\", \"offer_id\"]\n",
    "df_responses['n'] = 1\n",
    "df_responses.head()"
   ]
  },
  {
   "cell_type": "code",
   "execution_count": 8,
   "metadata": {
    "collapsed": false
   },
   "outputs": [
    {
     "data": {
      "text/html": [
       "<div>\n",
       "<table border=\"1\" class=\"dataframe\">\n",
       "  <thead>\n",
       "    <tr style=\"text-align: right;\">\n",
       "      <th></th>\n",
       "      <th>offer_id</th>\n",
       "      <th>campaign</th>\n",
       "      <th>product_type</th>\n",
       "      <th>level_emphasis_premium_savings</th>\n",
       "      <th>level_emphasis_neighborhood_agent</th>\n",
       "      <th>customer_name</th>\n",
       "      <th>n</th>\n",
       "    </tr>\n",
       "  </thead>\n",
       "  <tbody>\n",
       "    <tr>\n",
       "      <th>0</th>\n",
       "      <td>1</td>\n",
       "      <td>January</td>\n",
       "      <td>Product 1</td>\n",
       "      <td>7</td>\n",
       "      <td>5</td>\n",
       "      <td>Thomas</td>\n",
       "      <td>1</td>\n",
       "    </tr>\n",
       "    <tr>\n",
       "      <th>1</th>\n",
       "      <td>1</td>\n",
       "      <td>January</td>\n",
       "      <td>Product 1</td>\n",
       "      <td>7</td>\n",
       "      <td>5</td>\n",
       "      <td>Jackson</td>\n",
       "      <td>1</td>\n",
       "    </tr>\n",
       "    <tr>\n",
       "      <th>2</th>\n",
       "      <td>1</td>\n",
       "      <td>January</td>\n",
       "      <td>Product 1</td>\n",
       "      <td>7</td>\n",
       "      <td>5</td>\n",
       "      <td>Mitchell</td>\n",
       "      <td>1</td>\n",
       "    </tr>\n",
       "    <tr>\n",
       "      <th>3</th>\n",
       "      <td>1</td>\n",
       "      <td>January</td>\n",
       "      <td>Product 1</td>\n",
       "      <td>7</td>\n",
       "      <td>5</td>\n",
       "      <td>Peterson</td>\n",
       "      <td>1</td>\n",
       "    </tr>\n",
       "    <tr>\n",
       "      <th>4</th>\n",
       "      <td>1</td>\n",
       "      <td>January</td>\n",
       "      <td>Product 1</td>\n",
       "      <td>7</td>\n",
       "      <td>5</td>\n",
       "      <td>Wood</td>\n",
       "      <td>1</td>\n",
       "    </tr>\n",
       "  </tbody>\n",
       "</table>\n",
       "</div>"
      ],
      "text/plain": [
       "   offer_id campaign product_type  level_emphasis_premium_savings  \\\n",
       "0         1  January    Product 1                               7   \n",
       "1         1  January    Product 1                               7   \n",
       "2         1  January    Product 1                               7   \n",
       "3         1  January    Product 1                               7   \n",
       "4         1  January    Product 1                               7   \n",
       "\n",
       "   level_emphasis_neighborhood_agent customer_name  n  \n",
       "0                                  5        Thomas  1  \n",
       "1                                  5       Jackson  1  \n",
       "2                                  5      Mitchell  1  \n",
       "3                                  5      Peterson  1  \n",
       "4                                  5          Wood  1  "
      ]
     },
     "execution_count": 8,
     "metadata": {},
     "output_type": "execute_result"
    }
   ],
   "source": [
    "# join the offers and responses tables\n",
    "df = pd.merge(df_offers, df_responses)\n",
    "df.head()"
   ]
  },
  {
   "cell_type": "code",
   "execution_count": 9,
   "metadata": {
    "collapsed": false
   },
   "outputs": [
    {
     "name": "stdout",
     "output_type": "stream",
     "text": [
      "offer_id        1    2    3    4    5    6    7    8    9    10 ...    23  \\\n",
      "customer_name                                                   ...         \n",
      "Adams          NaN  NaN  NaN  NaN  NaN  NaN  NaN  NaN  NaN  NaN ...   NaN   \n",
      "Allen          NaN  NaN  NaN  NaN  NaN  NaN  NaN  NaN  1.0  NaN ...   NaN   \n",
      "Anderson       NaN  NaN  NaN  NaN  NaN  NaN  NaN  NaN  NaN  NaN ...   NaN   \n",
      "Bailey         NaN  NaN  NaN  NaN  NaN  NaN  1.0  NaN  NaN  NaN ...   NaN   \n",
      "Baker          NaN  NaN  NaN  NaN  NaN  NaN  1.0  NaN  NaN  1.0 ...   NaN   \n",
      "Barnes         NaN  NaN  NaN  NaN  NaN  NaN  NaN  NaN  NaN  1.0 ...   NaN   \n",
      "Bell           NaN  1.0  NaN  NaN  NaN  NaN  NaN  NaN  NaN  NaN ...   NaN   \n",
      "Bennett        NaN  NaN  NaN  NaN  NaN  NaN  NaN  1.0  NaN  NaN ...   NaN   \n",
      "Brooks         NaN  NaN  1.0  NaN  NaN  NaN  NaN  1.0  NaN  NaN ...   NaN   \n",
      "Brown          NaN  NaN  NaN  NaN  NaN  NaN  1.0  NaN  NaN  NaN ...   NaN   \n",
      "Butler         1.0  NaN  NaN  1.0  NaN  NaN  NaN  NaN  NaN  NaN ...   NaN   \n",
      "Campbell       NaN  1.0  NaN  NaN  NaN  NaN  NaN  NaN  NaN  NaN ...   NaN   \n",
      "Carter         NaN  NaN  NaN  NaN  NaN  NaN  1.0  NaN  NaN  NaN ...   NaN   \n",
      "Clark          NaN  NaN  NaN  1.0  NaN  NaN  NaN  NaN  NaN  NaN ...   NaN   \n",
      "Collins        NaN  NaN  NaN  NaN  NaN  NaN  NaN  NaN  NaN  NaN ...   NaN   \n",
      "Cook           NaN  NaN  NaN  NaN  NaN  NaN  NaN  NaN  NaN  NaN ...   NaN   \n",
      "Cooper         NaN  NaN  NaN  1.0  NaN  NaN  NaN  NaN  NaN  NaN ...   NaN   \n",
      "Cox            NaN  1.0  NaN  NaN  NaN  NaN  NaN  NaN  NaN  NaN ...   NaN   \n",
      "Cruz           NaN  NaN  NaN  NaN  NaN  NaN  NaN  NaN  NaN  NaN ...   NaN   \n",
      "Davis          NaN  NaN  NaN  NaN  NaN  NaN  NaN  NaN  NaN  NaN ...   NaN   \n",
      "Diaz           NaN  NaN  NaN  NaN  NaN  NaN  1.0  1.0  NaN  NaN ...   NaN   \n",
      "Edwards        NaN  NaN  NaN  NaN  NaN  NaN  NaN  1.0  NaN  NaN ...   NaN   \n",
      "Evans          NaN  NaN  NaN  NaN  NaN  NaN  NaN  NaN  NaN  NaN ...   NaN   \n",
      "Fisher         1.0  1.0  NaN  NaN  NaN  NaN  NaN  NaN  NaN  NaN ...   NaN   \n",
      "Flores         NaN  NaN  NaN  NaN  NaN  NaN  NaN  NaN  NaN  NaN ...   NaN   \n",
      "Foster         1.0  NaN  NaN  NaN  NaN  NaN  NaN  NaN  1.0  NaN ...   1.0   \n",
      "Garcia         NaN  NaN  NaN  NaN  NaN  NaN  NaN  NaN  NaN  NaN ...   NaN   \n",
      "Gomez          NaN  NaN  NaN  NaN  NaN  NaN  NaN  NaN  NaN  NaN ...   NaN   \n",
      "Gonzalez       NaN  NaN  NaN  NaN  NaN  NaN  NaN  NaN  1.0  NaN ...   NaN   \n",
      "Gray           NaN  NaN  NaN  NaN  NaN  NaN  NaN  NaN  NaN  NaN ...   NaN   \n",
      "...            ...  ...  ...  ...  ...  ...  ...  ...  ...  ... ...   ...   \n",
      "Reed           NaN  NaN  NaN  NaN  1.0  NaN  NaN  NaN  NaN  NaN ...   NaN   \n",
      "Reyes          NaN  NaN  NaN  NaN  NaN  NaN  NaN  NaN  1.0  NaN ...   1.0   \n",
      "Richardson     NaN  NaN  1.0  NaN  NaN  1.0  NaN  NaN  NaN  NaN ...   NaN   \n",
      "Rivera         NaN  NaN  NaN  NaN  NaN  NaN  1.0  NaN  NaN  NaN ...   NaN   \n",
      "Roberts        NaN  NaN  NaN  NaN  NaN  NaN  NaN  NaN  NaN  NaN ...   NaN   \n",
      "Robinson       NaN  NaN  NaN  NaN  NaN  NaN  1.0  NaN  NaN  NaN ...   NaN   \n",
      "Rodriguez      NaN  1.0  NaN  NaN  NaN  NaN  NaN  NaN  NaN  NaN ...   NaN   \n",
      "Rogers         NaN  NaN  1.0  NaN  NaN  NaN  1.0  1.0  NaN  NaN ...   NaN   \n",
      "Ross           NaN  NaN  NaN  NaN  NaN  NaN  NaN  NaN  NaN  NaN ...   NaN   \n",
      "Russell        NaN  NaN  NaN  NaN  NaN  NaN  NaN  NaN  NaN  NaN ...   NaN   \n",
      "Sanchez        NaN  NaN  NaN  1.0  1.0  NaN  NaN  NaN  NaN  NaN ...   NaN   \n",
      "Sanders        1.0  NaN  NaN  1.0  1.0  1.0  NaN  NaN  1.0  NaN ...   NaN   \n",
      "Scott          NaN  NaN  NaN  NaN  NaN  1.0  NaN  NaN  NaN  NaN ...   1.0   \n",
      "Smith          NaN  1.0  NaN  NaN  NaN  NaN  NaN  NaN  NaN  NaN ...   NaN   \n",
      "Stewart        NaN  NaN  NaN  NaN  NaN  NaN  NaN  1.0  NaN  NaN ...   NaN   \n",
      "Sullivan       NaN  NaN  NaN  NaN  NaN  NaN  NaN  1.0  NaN  NaN ...   NaN   \n",
      "Taylor         NaN  NaN  NaN  NaN  NaN  NaN  1.0  NaN  NaN  NaN ...   NaN   \n",
      "Thomas         1.0  NaN  NaN  1.0  NaN  NaN  NaN  NaN  1.0  NaN ...   NaN   \n",
      "Thompson       NaN  NaN  NaN  NaN  NaN  NaN  NaN  NaN  1.0  NaN ...   NaN   \n",
      "Torres         NaN  NaN  NaN  NaN  NaN  NaN  NaN  1.0  NaN  NaN ...   NaN   \n",
      "Turner         NaN  NaN  NaN  1.0  NaN  1.0  NaN  NaN  NaN  NaN ...   NaN   \n",
      "Walker         NaN  NaN  NaN  NaN  NaN  NaN  NaN  NaN  NaN  NaN ...   NaN   \n",
      "Ward           NaN  NaN  NaN  1.0  NaN  NaN  NaN  NaN  NaN  NaN ...   NaN   \n",
      "Watson         NaN  NaN  NaN  NaN  NaN  NaN  1.0  NaN  NaN  NaN ...   NaN   \n",
      "White          NaN  NaN  NaN  NaN  NaN  NaN  NaN  NaN  NaN  NaN ...   NaN   \n",
      "Williams       NaN  NaN  NaN  NaN  NaN  NaN  NaN  NaN  NaN  NaN ...   NaN   \n",
      "Wilson         NaN  NaN  NaN  NaN  NaN  NaN  NaN  1.0  NaN  NaN ...   NaN   \n",
      "Wood           1.0  NaN  NaN  NaN  NaN  NaN  NaN  NaN  NaN  1.0 ...   NaN   \n",
      "Wright         NaN  NaN  NaN  1.0  NaN  1.0  NaN  NaN  NaN  NaN ...   NaN   \n",
      "Young          NaN  NaN  NaN  NaN  NaN  1.0  NaN  NaN  1.0  NaN ...   NaN   \n",
      "\n",
      "offer_id        24   25   26   27   28   29   30   31   32  \n",
      "customer_name                                               \n",
      "Adams          NaN  NaN  NaN  NaN  NaN  1.0  1.0  NaN  NaN  \n",
      "Allen          NaN  NaN  NaN  1.0  NaN  NaN  NaN  NaN  NaN  \n",
      "Anderson       1.0  NaN  1.0  NaN  NaN  NaN  NaN  NaN  NaN  \n",
      "Bailey         NaN  NaN  NaN  NaN  NaN  NaN  1.0  NaN  NaN  \n",
      "Baker          NaN  NaN  NaN  NaN  NaN  NaN  NaN  1.0  NaN  \n",
      "Barnes         NaN  NaN  NaN  NaN  NaN  NaN  NaN  1.0  NaN  \n",
      "Bell           1.0  NaN  1.0  NaN  NaN  NaN  NaN  NaN  NaN  \n",
      "Bennett        NaN  NaN  NaN  NaN  NaN  1.0  NaN  NaN  NaN  \n",
      "Brooks         NaN  NaN  NaN  NaN  NaN  NaN  NaN  NaN  NaN  \n",
      "Brown          NaN  NaN  NaN  NaN  NaN  1.0  1.0  NaN  NaN  \n",
      "Butler         NaN  NaN  NaN  NaN  1.0  NaN  1.0  NaN  NaN  \n",
      "Campbell       1.0  NaN  1.0  NaN  NaN  NaN  NaN  NaN  NaN  \n",
      "Carter         NaN  NaN  NaN  NaN  NaN  1.0  1.0  NaN  NaN  \n",
      "Clark          NaN  NaN  NaN  NaN  1.0  NaN  NaN  1.0  NaN  \n",
      "Collins        NaN  NaN  NaN  NaN  NaN  NaN  1.0  NaN  NaN  \n",
      "Cook           1.0  NaN  1.0  NaN  NaN  NaN  NaN  NaN  NaN  \n",
      "Cooper         NaN  NaN  NaN  NaN  NaN  NaN  NaN  NaN  1.0  \n",
      "Cox            1.0  NaN  1.0  NaN  NaN  NaN  NaN  NaN  NaN  \n",
      "Cruz           NaN  NaN  NaN  NaN  NaN  1.0  1.0  NaN  NaN  \n",
      "Davis          NaN  1.0  NaN  NaN  NaN  NaN  NaN  NaN  NaN  \n",
      "Diaz           NaN  NaN  NaN  NaN  NaN  1.0  1.0  NaN  NaN  \n",
      "Edwards        NaN  NaN  NaN  1.0  NaN  NaN  NaN  NaN  NaN  \n",
      "Evans          NaN  NaN  NaN  1.0  NaN  NaN  NaN  NaN  NaN  \n",
      "Fisher         NaN  NaN  NaN  NaN  1.0  NaN  1.0  1.0  NaN  \n",
      "Flores         1.0  NaN  NaN  NaN  NaN  NaN  NaN  NaN  NaN  \n",
      "Foster         NaN  NaN  NaN  NaN  NaN  NaN  NaN  NaN  NaN  \n",
      "Garcia         NaN  NaN  NaN  NaN  NaN  NaN  NaN  NaN  NaN  \n",
      "Gomez          NaN  1.0  NaN  NaN  NaN  NaN  NaN  NaN  1.0  \n",
      "Gonzalez       NaN  NaN  NaN  NaN  NaN  NaN  NaN  1.0  NaN  \n",
      "Gray           NaN  NaN  1.0  NaN  NaN  NaN  NaN  NaN  NaN  \n",
      "...            ...  ...  ...  ...  ...  ...  ...  ...  ...  \n",
      "Reed           NaN  NaN  NaN  NaN  NaN  NaN  NaN  NaN  NaN  \n",
      "Reyes          NaN  NaN  NaN  NaN  NaN  NaN  NaN  NaN  NaN  \n",
      "Richardson     NaN  NaN  NaN  NaN  NaN  NaN  NaN  NaN  NaN  \n",
      "Rivera         NaN  NaN  NaN  NaN  NaN  NaN  NaN  NaN  NaN  \n",
      "Roberts        NaN  NaN  NaN  NaN  NaN  NaN  NaN  1.0  NaN  \n",
      "Robinson       NaN  NaN  NaN  NaN  NaN  1.0  NaN  NaN  NaN  \n",
      "Rodriguez      NaN  NaN  1.0  NaN  NaN  NaN  NaN  NaN  NaN  \n",
      "Rogers         NaN  NaN  NaN  NaN  NaN  NaN  NaN  NaN  NaN  \n",
      "Ross           NaN  NaN  NaN  NaN  NaN  NaN  NaN  NaN  NaN  \n",
      "Russell        NaN  NaN  1.0  NaN  NaN  NaN  NaN  NaN  NaN  \n",
      "Sanchez        NaN  NaN  1.0  NaN  NaN  NaN  NaN  NaN  NaN  \n",
      "Sanders        NaN  1.0  1.0  NaN  NaN  NaN  NaN  NaN  NaN  \n",
      "Scott          NaN  NaN  NaN  NaN  NaN  NaN  NaN  NaN  NaN  \n",
      "Smith          1.0  NaN  NaN  NaN  NaN  NaN  NaN  NaN  NaN  \n",
      "Stewart        NaN  NaN  NaN  NaN  NaN  1.0  1.0  NaN  NaN  \n",
      "Sullivan       NaN  NaN  NaN  NaN  NaN  NaN  NaN  NaN  NaN  \n",
      "Taylor         NaN  NaN  NaN  NaN  NaN  1.0  1.0  NaN  NaN  \n",
      "Thomas         NaN  NaN  1.0  NaN  NaN  NaN  NaN  NaN  NaN  \n",
      "Thompson       NaN  1.0  NaN  NaN  NaN  NaN  1.0  NaN  NaN  \n",
      "Torres         NaN  NaN  NaN  NaN  NaN  NaN  NaN  NaN  NaN  \n",
      "Turner         NaN  NaN  NaN  1.0  NaN  NaN  NaN  1.0  NaN  \n",
      "Walker         NaN  NaN  NaN  NaN  NaN  1.0  NaN  NaN  NaN  \n",
      "Ward           NaN  NaN  NaN  NaN  NaN  NaN  NaN  NaN  NaN  \n",
      "Watson         NaN  NaN  NaN  NaN  NaN  1.0  NaN  NaN  NaN  \n",
      "White          NaN  1.0  NaN  NaN  NaN  NaN  1.0  NaN  NaN  \n",
      "Williams       NaN  NaN  NaN  NaN  NaN  NaN  NaN  1.0  NaN  \n",
      "Wilson         NaN  NaN  NaN  NaN  NaN  NaN  1.0  NaN  NaN  \n",
      "Wood           NaN  NaN  NaN  NaN  NaN  NaN  NaN  1.0  NaN  \n",
      "Wright         NaN  NaN  NaN  1.0  NaN  NaN  NaN  NaN  NaN  \n",
      "Young          NaN  NaN  NaN  NaN  NaN  NaN  NaN  1.0  1.0  \n",
      "\n",
      "[100 rows x 32 columns]\n"
     ]
    }
   ],
   "source": [
    "# create a \"pivot table\" which will give us the number of times each customer responded to a given offer\n",
    "matrix = df.pivot_table(index=['customer_name'], columns=['offer_id'], values='n')\n",
    "print matrix"
   ]
  },
  {
   "cell_type": "code",
   "execution_count": 10,
   "metadata": {
    "collapsed": false
   },
   "outputs": [
    {
     "name": "stdout",
     "output_type": "stream",
     "text": [
      "offer_id customer_name    1    2    3    4    5    6    7    8    9 ...    23  \\\n",
      "0                Adams  0.0  0.0  0.0  0.0  0.0  0.0  0.0  0.0  0.0 ...   0.0   \n",
      "1                Allen  0.0  0.0  0.0  0.0  0.0  0.0  0.0  0.0  1.0 ...   0.0   \n",
      "2             Anderson  0.0  0.0  0.0  0.0  0.0  0.0  0.0  0.0  0.0 ...   0.0   \n",
      "3               Bailey  0.0  0.0  0.0  0.0  0.0  0.0  1.0  0.0  0.0 ...   0.0   \n",
      "4                Baker  0.0  0.0  0.0  0.0  0.0  0.0  1.0  0.0  0.0 ...   0.0   \n",
      "5               Barnes  0.0  0.0  0.0  0.0  0.0  0.0  0.0  0.0  0.0 ...   0.0   \n",
      "6                 Bell  0.0  1.0  0.0  0.0  0.0  0.0  0.0  0.0  0.0 ...   0.0   \n",
      "7              Bennett  0.0  0.0  0.0  0.0  0.0  0.0  0.0  1.0  0.0 ...   0.0   \n",
      "8               Brooks  0.0  0.0  1.0  0.0  0.0  0.0  0.0  1.0  0.0 ...   0.0   \n",
      "9                Brown  0.0  0.0  0.0  0.0  0.0  0.0  1.0  0.0  0.0 ...   0.0   \n",
      "10              Butler  1.0  0.0  0.0  1.0  0.0  0.0  0.0  0.0  0.0 ...   0.0   \n",
      "11            Campbell  0.0  1.0  0.0  0.0  0.0  0.0  0.0  0.0  0.0 ...   0.0   \n",
      "12              Carter  0.0  0.0  0.0  0.0  0.0  0.0  1.0  0.0  0.0 ...   0.0   \n",
      "13               Clark  0.0  0.0  0.0  1.0  0.0  0.0  0.0  0.0  0.0 ...   0.0   \n",
      "14             Collins  0.0  0.0  0.0  0.0  0.0  0.0  0.0  0.0  0.0 ...   0.0   \n",
      "15                Cook  0.0  0.0  0.0  0.0  0.0  0.0  0.0  0.0  0.0 ...   0.0   \n",
      "16              Cooper  0.0  0.0  0.0  1.0  0.0  0.0  0.0  0.0  0.0 ...   0.0   \n",
      "17                 Cox  0.0  1.0  0.0  0.0  0.0  0.0  0.0  0.0  0.0 ...   0.0   \n",
      "18                Cruz  0.0  0.0  0.0  0.0  0.0  0.0  0.0  0.0  0.0 ...   0.0   \n",
      "19               Davis  0.0  0.0  0.0  0.0  0.0  0.0  0.0  0.0  0.0 ...   0.0   \n",
      "20                Diaz  0.0  0.0  0.0  0.0  0.0  0.0  1.0  1.0  0.0 ...   0.0   \n",
      "21             Edwards  0.0  0.0  0.0  0.0  0.0  0.0  0.0  1.0  0.0 ...   0.0   \n",
      "22               Evans  0.0  0.0  0.0  0.0  0.0  0.0  0.0  0.0  0.0 ...   0.0   \n",
      "23              Fisher  1.0  1.0  0.0  0.0  0.0  0.0  0.0  0.0  0.0 ...   0.0   \n",
      "24              Flores  0.0  0.0  0.0  0.0  0.0  0.0  0.0  0.0  0.0 ...   0.0   \n",
      "25              Foster  1.0  0.0  0.0  0.0  0.0  0.0  0.0  0.0  1.0 ...   1.0   \n",
      "26              Garcia  0.0  0.0  0.0  0.0  0.0  0.0  0.0  0.0  0.0 ...   0.0   \n",
      "27               Gomez  0.0  0.0  0.0  0.0  0.0  0.0  0.0  0.0  0.0 ...   0.0   \n",
      "28            Gonzalez  0.0  0.0  0.0  0.0  0.0  0.0  0.0  0.0  1.0 ...   0.0   \n",
      "29                Gray  0.0  0.0  0.0  0.0  0.0  0.0  0.0  0.0  0.0 ...   0.0   \n",
      "..                 ...  ...  ...  ...  ...  ...  ...  ...  ...  ... ...   ...   \n",
      "70                Reed  0.0  0.0  0.0  0.0  1.0  0.0  0.0  0.0  0.0 ...   0.0   \n",
      "71               Reyes  0.0  0.0  0.0  0.0  0.0  0.0  0.0  0.0  1.0 ...   1.0   \n",
      "72          Richardson  0.0  0.0  1.0  0.0  0.0  1.0  0.0  0.0  0.0 ...   0.0   \n",
      "73              Rivera  0.0  0.0  0.0  0.0  0.0  0.0  1.0  0.0  0.0 ...   0.0   \n",
      "74             Roberts  0.0  0.0  0.0  0.0  0.0  0.0  0.0  0.0  0.0 ...   0.0   \n",
      "75            Robinson  0.0  0.0  0.0  0.0  0.0  0.0  1.0  0.0  0.0 ...   0.0   \n",
      "76           Rodriguez  0.0  1.0  0.0  0.0  0.0  0.0  0.0  0.0  0.0 ...   0.0   \n",
      "77              Rogers  0.0  0.0  1.0  0.0  0.0  0.0  1.0  1.0  0.0 ...   0.0   \n",
      "78                Ross  0.0  0.0  0.0  0.0  0.0  0.0  0.0  0.0  0.0 ...   0.0   \n",
      "79             Russell  0.0  0.0  0.0  0.0  0.0  0.0  0.0  0.0  0.0 ...   0.0   \n",
      "80             Sanchez  0.0  0.0  0.0  1.0  1.0  0.0  0.0  0.0  0.0 ...   0.0   \n",
      "81             Sanders  1.0  0.0  0.0  1.0  1.0  1.0  0.0  0.0  1.0 ...   0.0   \n",
      "82               Scott  0.0  0.0  0.0  0.0  0.0  1.0  0.0  0.0  0.0 ...   1.0   \n",
      "83               Smith  0.0  1.0  0.0  0.0  0.0  0.0  0.0  0.0  0.0 ...   0.0   \n",
      "84             Stewart  0.0  0.0  0.0  0.0  0.0  0.0  0.0  1.0  0.0 ...   0.0   \n",
      "85            Sullivan  0.0  0.0  0.0  0.0  0.0  0.0  0.0  1.0  0.0 ...   0.0   \n",
      "86              Taylor  0.0  0.0  0.0  0.0  0.0  0.0  1.0  0.0  0.0 ...   0.0   \n",
      "87              Thomas  1.0  0.0  0.0  1.0  0.0  0.0  0.0  0.0  1.0 ...   0.0   \n",
      "88            Thompson  0.0  0.0  0.0  0.0  0.0  0.0  0.0  0.0  1.0 ...   0.0   \n",
      "89              Torres  0.0  0.0  0.0  0.0  0.0  0.0  0.0  1.0  0.0 ...   0.0   \n",
      "90              Turner  0.0  0.0  0.0  1.0  0.0  1.0  0.0  0.0  0.0 ...   0.0   \n",
      "91              Walker  0.0  0.0  0.0  0.0  0.0  0.0  0.0  0.0  0.0 ...   0.0   \n",
      "92                Ward  0.0  0.0  0.0  1.0  0.0  0.0  0.0  0.0  0.0 ...   0.0   \n",
      "93              Watson  0.0  0.0  0.0  0.0  0.0  0.0  1.0  0.0  0.0 ...   0.0   \n",
      "94               White  0.0  0.0  0.0  0.0  0.0  0.0  0.0  0.0  0.0 ...   0.0   \n",
      "95            Williams  0.0  0.0  0.0  0.0  0.0  0.0  0.0  0.0  0.0 ...   0.0   \n",
      "96              Wilson  0.0  0.0  0.0  0.0  0.0  0.0  0.0  1.0  0.0 ...   0.0   \n",
      "97                Wood  1.0  0.0  0.0  0.0  0.0  0.0  0.0  0.0  0.0 ...   0.0   \n",
      "98              Wright  0.0  0.0  0.0  1.0  0.0  1.0  0.0  0.0  0.0 ...   0.0   \n",
      "99               Young  0.0  0.0  0.0  0.0  0.0  1.0  0.0  0.0  1.0 ...   0.0   \n",
      "\n",
      "offer_id   24   25   26   27   28   29   30   31   32  \n",
      "0         0.0  0.0  0.0  0.0  0.0  1.0  1.0  0.0  0.0  \n",
      "1         0.0  0.0  0.0  1.0  0.0  0.0  0.0  0.0  0.0  \n",
      "2         1.0  0.0  1.0  0.0  0.0  0.0  0.0  0.0  0.0  \n",
      "3         0.0  0.0  0.0  0.0  0.0  0.0  1.0  0.0  0.0  \n",
      "4         0.0  0.0  0.0  0.0  0.0  0.0  0.0  1.0  0.0  \n",
      "5         0.0  0.0  0.0  0.0  0.0  0.0  0.0  1.0  0.0  \n",
      "6         1.0  0.0  1.0  0.0  0.0  0.0  0.0  0.0  0.0  \n",
      "7         0.0  0.0  0.0  0.0  0.0  1.0  0.0  0.0  0.0  \n",
      "8         0.0  0.0  0.0  0.0  0.0  0.0  0.0  0.0  0.0  \n",
      "9         0.0  0.0  0.0  0.0  0.0  1.0  1.0  0.0  0.0  \n",
      "10        0.0  0.0  0.0  0.0  1.0  0.0  1.0  0.0  0.0  \n",
      "11        1.0  0.0  1.0  0.0  0.0  0.0  0.0  0.0  0.0  \n",
      "12        0.0  0.0  0.0  0.0  0.0  1.0  1.0  0.0  0.0  \n",
      "13        0.0  0.0  0.0  0.0  1.0  0.0  0.0  1.0  0.0  \n",
      "14        0.0  0.0  0.0  0.0  0.0  0.0  1.0  0.0  0.0  \n",
      "15        1.0  0.0  1.0  0.0  0.0  0.0  0.0  0.0  0.0  \n",
      "16        0.0  0.0  0.0  0.0  0.0  0.0  0.0  0.0  1.0  \n",
      "17        1.0  0.0  1.0  0.0  0.0  0.0  0.0  0.0  0.0  \n",
      "18        0.0  0.0  0.0  0.0  0.0  1.0  1.0  0.0  0.0  \n",
      "19        0.0  1.0  0.0  0.0  0.0  0.0  0.0  0.0  0.0  \n",
      "20        0.0  0.0  0.0  0.0  0.0  1.0  1.0  0.0  0.0  \n",
      "21        0.0  0.0  0.0  1.0  0.0  0.0  0.0  0.0  0.0  \n",
      "22        0.0  0.0  0.0  1.0  0.0  0.0  0.0  0.0  0.0  \n",
      "23        0.0  0.0  0.0  0.0  1.0  0.0  1.0  1.0  0.0  \n",
      "24        1.0  0.0  0.0  0.0  0.0  0.0  0.0  0.0  0.0  \n",
      "25        0.0  0.0  0.0  0.0  0.0  0.0  0.0  0.0  0.0  \n",
      "26        0.0  0.0  0.0  0.0  0.0  0.0  0.0  0.0  0.0  \n",
      "27        0.0  1.0  0.0  0.0  0.0  0.0  0.0  0.0  1.0  \n",
      "28        0.0  0.0  0.0  0.0  0.0  0.0  0.0  1.0  0.0  \n",
      "29        0.0  0.0  1.0  0.0  0.0  0.0  0.0  0.0  0.0  \n",
      "..        ...  ...  ...  ...  ...  ...  ...  ...  ...  \n",
      "70        0.0  0.0  0.0  0.0  0.0  0.0  0.0  0.0  0.0  \n",
      "71        0.0  0.0  0.0  0.0  0.0  0.0  0.0  0.0  0.0  \n",
      "72        0.0  0.0  0.0  0.0  0.0  0.0  0.0  0.0  0.0  \n",
      "73        0.0  0.0  0.0  0.0  0.0  0.0  0.0  0.0  0.0  \n",
      "74        0.0  0.0  0.0  0.0  0.0  0.0  0.0  1.0  0.0  \n",
      "75        0.0  0.0  0.0  0.0  0.0  1.0  0.0  0.0  0.0  \n",
      "76        0.0  0.0  1.0  0.0  0.0  0.0  0.0  0.0  0.0  \n",
      "77        0.0  0.0  0.0  0.0  0.0  0.0  0.0  0.0  0.0  \n",
      "78        0.0  0.0  0.0  0.0  0.0  0.0  0.0  0.0  0.0  \n",
      "79        0.0  0.0  1.0  0.0  0.0  0.0  0.0  0.0  0.0  \n",
      "80        0.0  0.0  1.0  0.0  0.0  0.0  0.0  0.0  0.0  \n",
      "81        0.0  1.0  1.0  0.0  0.0  0.0  0.0  0.0  0.0  \n",
      "82        0.0  0.0  0.0  0.0  0.0  0.0  0.0  0.0  0.0  \n",
      "83        1.0  0.0  0.0  0.0  0.0  0.0  0.0  0.0  0.0  \n",
      "84        0.0  0.0  0.0  0.0  0.0  1.0  1.0  0.0  0.0  \n",
      "85        0.0  0.0  0.0  0.0  0.0  0.0  0.0  0.0  0.0  \n",
      "86        0.0  0.0  0.0  0.0  0.0  1.0  1.0  0.0  0.0  \n",
      "87        0.0  0.0  1.0  0.0  0.0  0.0  0.0  0.0  0.0  \n",
      "88        0.0  1.0  0.0  0.0  0.0  0.0  1.0  0.0  0.0  \n",
      "89        0.0  0.0  0.0  0.0  0.0  0.0  0.0  0.0  0.0  \n",
      "90        0.0  0.0  0.0  1.0  0.0  0.0  0.0  1.0  0.0  \n",
      "91        0.0  0.0  0.0  0.0  0.0  1.0  0.0  0.0  0.0  \n",
      "92        0.0  0.0  0.0  0.0  0.0  0.0  0.0  0.0  0.0  \n",
      "93        0.0  0.0  0.0  0.0  0.0  1.0  0.0  0.0  0.0  \n",
      "94        0.0  1.0  0.0  0.0  0.0  0.0  1.0  0.0  0.0  \n",
      "95        0.0  0.0  0.0  0.0  0.0  0.0  0.0  1.0  0.0  \n",
      "96        0.0  0.0  0.0  0.0  0.0  0.0  1.0  0.0  0.0  \n",
      "97        0.0  0.0  0.0  0.0  0.0  0.0  0.0  1.0  0.0  \n",
      "98        0.0  0.0  0.0  1.0  0.0  0.0  0.0  0.0  0.0  \n",
      "99        0.0  0.0  0.0  0.0  0.0  0.0  0.0  1.0  1.0  \n",
      "\n",
      "[100 rows x 33 columns]\n"
     ]
    }
   ],
   "source": [
    "# fill NA values with 0 and make the index into a column\n",
    "matrix = matrix.fillna(0).reset_index()\n",
    "print matrix"
   ]
  },
  {
   "cell_type": "code",
   "execution_count": 11,
   "metadata": {
    "collapsed": false
   },
   "outputs": [
    {
     "name": "stdout",
     "output_type": "stream",
     "text": [
      "Index([ 1,  2,  3,  4,  5,  6,  7,  8,  9, 10, 11, 12, 13, 14, 15, 16, 17, 18,\n",
      "       19, 20, 21, 22, 23, 24, 25, 26, 27, 28, 29, 30, 31, 32],\n",
      "      dtype='object', name=u'offer_id')\n"
     ]
    }
   ],
   "source": [
    "# save a list of the 0/1 columns (offer id). we'll use these a bit later\n",
    "x_cols = matrix.columns[1:]\n",
    "print x_cols"
   ]
  },
  {
   "cell_type": "code",
   "execution_count": 12,
   "metadata": {
    "collapsed": true
   },
   "outputs": [],
   "source": [
    "data = matrix[x_cols]"
   ]
  },
  {
   "cell_type": "code",
   "execution_count": 13,
   "metadata": {
    "collapsed": false
   },
   "outputs": [],
   "source": [
    "data = data.as_matrix()"
   ]
  },
  {
   "cell_type": "code",
   "execution_count": 14,
   "metadata": {
    "collapsed": false
   },
   "outputs": [
    {
     "name": "stdout",
     "output_type": "stream",
     "text": [
      "[[ 0.  0.  0. ...,  1.  0.  0.]\n",
      " [ 0.  0.  0. ...,  0.  0.  0.]\n",
      " [ 0.  0.  0. ...,  0.  0.  0.]\n",
      " ..., \n",
      " [ 1.  0.  0. ...,  0.  1.  0.]\n",
      " [ 0.  0.  0. ...,  0.  0.  0.]\n",
      " [ 0.  0.  0. ...,  0.  1.  1.]]\n"
     ]
    }
   ],
   "source": [
    "print data"
   ]
  },
  {
   "cell_type": "markdown",
   "metadata": {},
   "source": [
    "# Below is code for Gaussian Mixture Models with Expectation-Maximization:"
   ]
  },
  {
   "cell_type": "code",
   "execution_count": 15,
   "metadata": {
    "collapsed": true
   },
   "outputs": [],
   "source": [
    "def mv_normal_log_pdf(X, mu, Sig):\n",
    "    return (-0.5*np.linalg.slogdet(2*np.pi*Sig)[1]\n",
    "     - 0.5*np.sum((X-mu)*(np.linalg.inv(Sig).dot((X-mu).T)).T,axis=1))"
   ]
  },
  {
   "cell_type": "code",
   "execution_count": 16,
   "metadata": {
    "collapsed": true
   },
   "outputs": [],
   "source": [
    "class GaussianMixture:\n",
    "    def init_parameters(self, X, P, k, reg):\n",
    "        \"\"\" Initialize the parameters of means, covariances, and frequency counts. \n",
    "            Args: \n",
    "                X (numpy 2D matrix) : data matrix, each row is an example\n",
    "                P (numpy 2D matrix) : Random permutation vector\n",
    "                k (float) : number of clusters\n",
    "                reg (float) : regularization parameter for the covariance matrix\n",
    "            Returns: \n",
    "                mus (numpy 2D matrix) : matrix of initialzied means, chosen randomly by selection the first k elements of P\n",
    "                Sigmas (list) : list of 2D covariance matrices corresponding to each cluster\n",
    "                phi (numpy 1D vector) : vector of initialized frequencies\n",
    "        \"\"\"\n",
    "        # initlize the centers mu. each row of the matrix is a center\n",
    "        # we use the first k random indices of the permutation as centers\n",
    "        mu_index = P[:k]  \n",
    "        Mu = X[mu_index,:]\n",
    "        \n",
    "        #Covariance matrix should be intialized as the sample covariance of the \n",
    "        #entire data matrix plus regularization using the unbiased estimater. \n",
    "        sigma = np.cov(X.T + reg)\n",
    "        sigmas =[sigma] * k  #list of 2D covariance matrices corresponding to each cluster/component\n",
    "        \n",
    "        # start with equal probability for all the clusters/gaussian components\n",
    "        phi = np.empty(k)  \n",
    "        phi.fill(1.0/float(k))\n",
    "        return Mu, sigmas, phi\n",
    "        \n",
    "        \n",
    "\n",
    "    def Estep(self, X, mus, Sigmas, phi):\n",
    "        \"\"\" Perform an E step and return the resulting probabilities. \n",
    "            Args: \n",
    "                X (numpy 2D matrix) : data matrix, each row is an example\n",
    "                mus (numpy 2D matrix) : matrix of initialzied means, chosen randomly by selection the first k elements of P\n",
    "                Sigmas (list) : list of 2D covariance matrices corresponding to each cluster\n",
    "                phi (numpy 1D vector) : vector of initialized frequencies\n",
    "            Returns: \n",
    "                (numpy 2D matrix) : matrix of probabilities, where the i,jth entry corresponds to the probability of the\n",
    "                                    ith element being in the jth cluster. \n",
    "        \"\"\"\n",
    "        # matrix of probabilities. where the i,jth entry corresponds to the probability of the ith element being in\n",
    "        # jth cluster/component\n",
    "        mx_prob = np.zeros((X.shape[0],len(Sigmas)))\n",
    "        for j in range(mx_prob.shape[1]):\n",
    "            # multivariate normal log pdf function\n",
    "            mx_prob[:,j] = mv_normal_log_pdf(X, mus[j, :], Sigmas[j]) + np.log(phi[j])\n",
    "        #log trick: dividing by a very large negative number can cause numerical problems, since everything is 0\n",
    "        # so we add a small number to numerator and denominator before division\n",
    "        # it is common to use the row max so at least one element in the resulting probability vector is 1\n",
    "        log_trick = np.max(mx_prob,axis=1)\n",
    "        mx_prob = np.exp(mx_prob-log_trick[:, np.newaxis])\n",
    "        mx_prob = mx_prob/np.sum(mx_prob, axis=1)[:,None]\n",
    "        \n",
    "        return mx_prob\n",
    "        \n",
    "\n",
    "    def Mstep(self, ps, X, reg):\n",
    "        \"\"\"  \n",
    "            Args: \n",
    "                ps (numpy 2D matrix) : matrix of probabilities, where the i,jth entry corresponds to the probability of the\n",
    "                                       ith element being in the jth cluster. \n",
    "                X (numpy 2D matrix) : data matrix, each row is an example\n",
    "                reg (float) : regularization parameter for the covariance matrix\n",
    "            Returns: \n",
    "                (mus, Sigmas, phi) : 3 tuple of matrix of initialzied means, chosen randomly by selection the first \n",
    "                                     k elements of P, a list of 2D covariance matrices corresponding to each cluster, \n",
    "                                     and a vector of initialized frequencies\n",
    "        \"\"\"\n",
    "        # sum up the probability of being in jth cluster (column sum), divided by number of rows in ps (num of records)\n",
    "        phi = np.sum(ps, axis = 0)/float(ps.shape[0])\n",
    "        # ps transpose dot X, divided by column sum of ps\n",
    "        mus = ps.T.dot(X)/ np.sum(ps, axis=0)[:, None]\n",
    "\n",
    "        Sigmas = []\n",
    "        for k in range(ps.shape[1]):  # for each cluster\n",
    "            step0 = X - mus[k,:]\n",
    "            step1 = step0.T*(ps[:, k]) #step0 is m by n, step0.T is n by m, ps[:,k] is m by 1 so its matrix vector multi\n",
    "                                       # step1 is n by m\n",
    "            step2 = step1.dot(step0)   #step2 is n by n\n",
    "            step3 = step2/float(np.sum(ps[:,k])) #n by n\n",
    "            # add covariance matrix regulaization\n",
    "            sigma = step3 + np.eye(step3.shape[1])*reg\n",
    "            #append to the list of covariance matrices\n",
    "            Sigmas.append(sigma)\n",
    "        return (mus, Sigmas, phi)\n",
    "        \n",
    "        \n",
    "        \n",
    "        \n",
    "            \n",
    "    \n",
    "    def train(self, X, mus, Sigmas, phi, niters = 5, reg=1e-4):\n",
    "        \"\"\" Train the model using the EM algorithm for a number of iterations. \n",
    "            Args: \n",
    "                X (numpy 2D matrix) : data matrix, each row is an example\n",
    "                mus (numpy 2D matrix) : matrix of initialzied means, chosen randomly by selection the first k elements of P\n",
    "                Sigmas (list) : list of 2D covariance matrices corresponding to each cluster\n",
    "                phi (numpy 1D vector) : vector of initialized frequencies\n",
    "                niters (int) : number of EM iterations to run\n",
    "            Returns: \n",
    "                (mus, Sigmas, phi) : 3 tuple of matrix of initialzied means, chosen randomly by selection the first \n",
    "                                     k elements of P, a list of 2D covariance matrices corresponding to each cluster, \n",
    "                                     and a vector of initialized frequencies \n",
    "        \n",
    "        \"\"\"\n",
    "        for i in range(niters):\n",
    "            mx_prob = self.Estep(X, mus, Sigmas, phi)\n",
    "            mus, Sigmas, phi = self.Mstep(mx_prob, X, reg)\n",
    "        return (mus, Sigmas, phi)\n"
   ]
  },
  {
   "cell_type": "markdown",
   "metadata": {},
   "source": [
    "# First Iteration of E Step and M Step <a id='first'></a>"
   ]
  },
  {
   "cell_type": "code",
   "execution_count": 22,
   "metadata": {
    "collapsed": false
   },
   "outputs": [],
   "source": [
    "k = 4\n",
    "P = np.arange(data.shape[0])\n",
    "reg = 1e-4\n",
    "GM = GaussianMixture()\n",
    "mus, Sigmas, phi = GM.init_parameters(data, P, k, reg)\n",
    "ps = GM.Estep(data, mus, Sigmas, phi)\n",
    "mus, Sigmas, phi = GM.Mstep(ps, data, reg)"
   ]
  },
  {
   "cell_type": "code",
   "execution_count": 23,
   "metadata": {
    "collapsed": false
   },
   "outputs": [
    {
     "name": "stdout",
     "output_type": "stream",
     "text": [
      "(100L, 4L)\n",
      "[[  9.99999990e-01   4.05863200e-11   3.67828247e-10   9.96181043e-09]\n",
      " [  4.05863204e-11   1.00000000e+00   3.09779961e-13   1.30994511e-10]\n",
      " [  3.67828249e-10   3.09779960e-13   9.99999996e-01   3.98434711e-09]\n",
      " [  9.96181040e-09   1.30994510e-10   3.98434707e-09   9.99999986e-01]\n",
      " [  6.92564519e-02   2.19319521e-04   1.27255468e-03   9.29251674e-01]\n",
      " [  2.25848511e-02   1.09691924e-03   2.20559792e-02   9.54262251e-01]\n",
      " [  4.96718820e-01   6.44504569e-04   2.79773491e-04   5.02356902e-01]\n",
      " [  9.94175231e-01   7.54787312e-05   4.94678377e-03   8.02506377e-04]\n",
      " [  3.82245940e-01   3.23691600e-04   2.73633235e-01   3.43797133e-01]\n",
      " [  1.02636265e-02   5.35096169e-08   2.18641253e-06   9.89734134e-01]\n",
      " [  1.45195876e-02   2.55144438e-07   6.21095869e-03   9.79269199e-01]\n",
      " [  4.60063900e-06   8.30738843e-09   9.99989857e-01   5.53440056e-06]\n",
      " [  5.38674924e-03   5.85257089e-06   1.70884034e-04   9.94436514e-01]\n",
      " [  2.45758497e-02   1.38599395e-06   7.47002710e-02   9.00722493e-01]\n",
      " [  7.25361460e-03   2.91009937e-08   1.61515353e-05   9.92730205e-01]\n",
      " [  3.67828249e-10   3.09779960e-13   9.99999996e-01   3.98434711e-09]\n",
      " [  8.45153471e-02   5.98648151e-07   1.75277099e-03   9.13731283e-01]\n",
      " [  4.96718820e-01   6.44504569e-04   2.79773491e-04   5.02356902e-01]\n",
      " [  9.99587406e-01   1.07320671e-07   8.84234134e-07   4.11602004e-04]\n",
      " [  8.72125512e-01   2.37411027e-04   9.75498715e-03   1.17882089e-01]\n",
      " [  4.55612870e-03   3.13745416e-07   1.96589477e-05   9.95423899e-01]\n",
      " [  7.50738789e-06   9.99350903e-01   4.17277875e-05   5.99861605e-04]\n",
      " [  2.13045262e-05   9.99379590e-01   1.75446456e-05   5.81560822e-04]\n",
      " [  3.48800690e-02   1.61624587e-05   7.51252422e-05   9.65028643e-01]\n",
      " [  1.32582142e-01   4.98803364e-04   7.35981249e-03   8.59559242e-01]\n",
      " [  9.89941569e-02   7.72474541e-01   1.60517839e-02   1.12479518e-01]\n",
      " [  2.14015784e-02   7.78433364e-05   1.52499583e-03   9.76995582e-01]\n",
      " [  1.75178251e-01   1.25630438e-04   3.87225978e-02   7.85973521e-01]\n",
      " [  4.88188465e-05   9.98490540e-01   1.13039862e-06   1.45951097e-03]\n",
      " [  1.98917239e-01   3.93920986e-07   3.08013833e-01   4.93068534e-01]\n",
      " [  1.15133906e-08   8.10525534e-09   1.27879992e-06   9.99998702e-01]\n",
      " [  9.94896757e-01   1.51803384e-05   9.43430381e-04   4.14463246e-03]\n",
      " [  1.05804519e-02   1.05775735e-05   1.96342023e-02   9.69774768e-01]\n",
      " [  1.29325587e-01   1.53648617e-02   1.48707779e-03   8.53822474e-01]\n",
      " [  9.77690596e-01   3.67855387e-03   1.70231525e-02   1.60769765e-03]\n",
      " [  9.54796300e-01   2.69037956e-04   1.98893190e-03   4.29457297e-02]\n",
      " [  9.31005341e-01   8.49808512e-04   1.54730645e-03   6.65975445e-02]\n",
      " [  2.38143261e-03   3.41750080e-05   1.53019240e-03   9.96054200e-01]\n",
      " [  1.34099796e-01   4.98758917e-08   1.03625873e-03   8.64863895e-01]\n",
      " [  9.49220841e-05   1.29878867e-06   4.76169109e-05   9.99856162e-01]\n",
      " [  3.67828249e-10   3.09779960e-13   9.99999996e-01   3.98434711e-09]\n",
      " [  5.83015917e-02   3.52823639e-05   4.10727553e-01   5.30935573e-01]\n",
      " [  1.17533069e-03   2.25063749e-04   1.09801352e-02   9.87619470e-01]\n",
      " [  1.20441211e-02   3.42982253e-03   7.96348753e-04   9.83729708e-01]\n",
      " [  9.92507176e-01   2.18232435e-05   3.63569496e-03   3.83530590e-03]\n",
      " [  8.83989918e-01   8.32640744e-02   1.06798544e-03   3.16780218e-02]\n",
      " [  4.39687266e-09   7.63675952e-10   3.56201542e-08   9.99999959e-01]\n",
      " [  5.16397814e-05   1.09097849e-05   1.33013222e-05   9.99924149e-01]\n",
      " [  5.17838367e-04   9.95660213e-01   2.58697028e-04   3.56325145e-03]\n",
      " [  1.61286672e-02   4.86186643e-03   5.65161262e-05   9.78952950e-01]\n",
      " [  4.74284596e-01   1.81570589e-02   1.25293654e-01   3.82264691e-01]\n",
      " [  1.85960997e-01   1.33447091e-08   2.50522033e-02   7.88986786e-01]\n",
      " [  4.02747927e-02   3.83566832e-05   4.68011963e-05   9.59640049e-01]\n",
      " [  1.32582142e-01   4.98803364e-04   7.35981249e-03   8.59559242e-01]\n",
      " [  5.43692853e-04   1.01886766e-06   9.99777693e-03   9.89457511e-01]\n",
      " [  9.94175231e-01   7.54787312e-05   4.94678377e-03   8.02506377e-04]\n",
      " [  5.83015917e-02   3.52823639e-05   4.10727553e-01   5.30935573e-01]\n",
      " [  1.47520799e-05   9.48208385e-06   1.46746496e-06   9.99974298e-01]\n",
      " [  9.89735574e-01   1.01317084e-07   6.83521038e-07   1.02636415e-02]\n",
      " [  7.95925415e-01   3.92067215e-06   9.82123586e-03   1.94249428e-01]\n",
      " [  9.98249440e-01   1.39115560e-05   6.25523134e-04   1.11112536e-03]\n",
      " [  1.17533069e-03   2.25063749e-04   1.09801352e-02   9.87619470e-01]\n",
      " [  9.49481804e-01   1.56679412e-04   3.63619231e-03   4.67253246e-02]\n",
      " [  9.89735574e-01   1.01317084e-07   6.83521038e-07   1.02636415e-02]\n",
      " [  9.99999969e-01   5.36080577e-10   7.45037419e-09   2.25700560e-08]\n",
      " [  8.75948260e-01   1.52119847e-02   1.33812540e-02   9.54585008e-02]\n",
      " [  1.32582142e-01   4.98803364e-04   7.35981249e-03   8.59559242e-01]\n",
      " [  9.11364260e-02   4.06260989e-06   5.38239001e-03   9.03477121e-01]\n",
      " [  5.87057277e-03   1.30828118e-07   1.66429273e-03   9.92465004e-01]\n",
      " [  2.81861178e-05   9.99014752e-01   3.61592999e-07   9.56700585e-04]\n",
      " [  4.71343758e-01   9.30815058e-04   2.60199939e-03   5.25123427e-01]\n",
      " [  4.02693872e-02   4.97373601e-02   7.38663675e-04   9.09254589e-01]\n",
      " [  1.66584564e-01   3.24709393e-05   8.80361403e-03   8.24579351e-01]\n",
      " [  4.75670258e-04   1.26586251e-07   2.19686789e-05   9.99502234e-01]\n",
      " [  3.04400457e-03   2.54659669e-05   2.53407376e-03   9.94396456e-01]\n",
      " [  1.18349934e-02   3.30329730e-06   7.00131724e-04   9.87461572e-01]\n",
      " [  1.69879131e-02   8.49388040e-05   7.95003161e-05   9.82847648e-01]\n",
      " [  1.16157750e-01   1.43143184e-04   3.60913260e-02   8.47607781e-01]\n",
      " [  9.71114155e-01   1.41851233e-06   5.97891307e-04   2.82865348e-02]\n",
      " [  1.72265937e-03   4.01723651e-06   1.00833703e-01   8.97439620e-01]\n",
      " [  1.08845909e-01   2.28744593e-03   3.16985700e-03   8.85696788e-01]\n",
      " [  1.72211956e-01   6.84468425e-04   2.29933638e-01   5.97169937e-01]\n",
      " [  8.96787792e-03   9.04059901e-09   1.10824559e-03   9.89923867e-01]\n",
      " [  5.83231474e-04   6.54718165e-06   9.98910736e-01   4.99485347e-04]\n",
      " [  9.99048636e-01   1.41677094e-06   1.79005406e-05   9.32046774e-04]\n",
      " [  6.12563300e-01   9.24064836e-03   3.54356686e-01   2.38393664e-02]\n",
      " [  9.97672423e-01   1.96623782e-09   8.83726374e-08   2.32748692e-03]\n",
      " [  7.13222235e-01   5.68401192e-02   1.76198507e-01   5.37391388e-02]\n",
      " [  6.88209689e-03   1.87236417e-05   8.47325323e-05   9.93014447e-01]\n",
      " [  1.17533069e-03   2.25063749e-04   1.09801352e-02   9.87619470e-01]\n",
      " [  9.40239606e-02   1.71211342e-02   3.58725934e-03   8.85267646e-01]\n",
      " [  9.99999887e-01   2.17284263e-09   1.02146974e-07   8.61931406e-09]\n",
      " [  3.41827286e-02   3.44483452e-07   6.05792952e-04   9.65211134e-01]\n",
      " [  1.18349934e-02   3.30329730e-06   7.00131724e-04   9.87461572e-01]\n",
      " [  4.25534884e-02   1.04986598e-05   1.78884843e-04   9.57257128e-01]\n",
      " [  9.92880329e-01   1.46153325e-05   1.03142743e-03   6.07362777e-03]\n",
      " [  1.02858770e-03   3.67907089e-06   3.46025789e-05   9.98933131e-01]\n",
      " [  4.09009663e-01   2.17343929e-02   1.22125809e-01   4.47130135e-01]\n",
      " [  2.78912192e-02   2.34580752e-03   1.89265368e-03   9.67870320e-01]\n",
      " [  8.88443010e-01   4.51595805e-03   3.71575317e-02   6.98835007e-02]]\n"
     ]
    }
   ],
   "source": [
    "print ps.shape\n",
    "print ps"
   ]
  },
  {
   "cell_type": "code",
   "execution_count": 24,
   "metadata": {
    "collapsed": true
   },
   "outputs": [],
   "source": [
    "cluster_1 = np.argmax(ps, axis = 1) #in the actual function, a data point contributes to recomputing the parameters of\n",
    "                                    # every single Guassian component it can potentially belong to"
   ]
  },
  {
   "cell_type": "code",
   "execution_count": 25,
   "metadata": {
    "collapsed": false
   },
   "outputs": [],
   "source": [
    "matrix['cluster_1'] = cluster_1"
   ]
  },
  {
   "cell_type": "markdown",
   "metadata": {},
   "source": [
    "# To visualize the cluster, we performed a dimension reduction:"
   ]
  },
  {
   "cell_type": "code",
   "execution_count": 26,
   "metadata": {
    "collapsed": false
   },
   "outputs": [
    {
     "name": "stdout",
     "output_type": "stream",
     "text": [
      "offer_id customer_name  cluster_1         x         y\n",
      "0                Adams          0  1.007580  0.108215\n",
      "1                Allen          1 -0.287539  0.044715\n",
      "2             Anderson          2 -0.392032  1.038391\n",
      "3               Bailey          3  0.699477 -0.022542\n",
      "4                Baker          3  0.088183 -0.471695\n",
      "5               Barnes          3 -0.485282 -0.725503\n",
      "6                 Bell          3 -0.591941  1.506500\n",
      "7              Bennett          0  0.661732  0.090308\n",
      "8               Brooks          0 -0.118943 -0.577499\n",
      "9                Brown          3  1.079827 -0.007488\n",
      "10              Butler          3 -0.240431 -0.617026\n",
      "11            Campbell          2 -0.522247  1.231406\n",
      "12              Carter          3  1.260763 -0.014255\n",
      "13               Clark          3 -0.579221 -0.420475\n",
      "14             Collins          3  0.193998  0.010306\n",
      "15                Cook          2 -0.392032  1.038391\n",
      "16              Cooper          3 -0.406276 -0.045771\n",
      "17                 Cox          3 -0.591941  1.506500\n",
      "18                Cruz          0  0.736155  0.117752\n",
      "19               Davis          0 -0.349057 -0.267081\n",
      "20                Diaz          3  1.412247 -0.123874\n",
      "21             Edwards          1  0.181048 -0.020653\n",
      "22               Evans          1 -0.371485 -0.348007\n",
      "23              Fisher          3 -0.509137 -0.687321\n",
      "24              Flores          3 -0.239706  0.911844\n",
      "25              Foster          1 -0.782355 -0.518475\n",
      "26              Garcia          3 -0.299666  0.006964\n",
      "27               Gomez          3 -0.412830 -0.012199\n",
      "28            Gonzalez          1 -0.339146 -0.185585\n",
      "29                Gray          3 -0.330960  0.607623\n",
      "..                 ...        ...       ...       ...\n",
      "70                Reed          3 -0.252065  0.100076\n",
      "71               Reyes          3 -0.266650  0.097532\n",
      "72          Richardson          3 -0.443190 -0.634112\n",
      "73              Rivera          3  0.564060  0.056861\n",
      "74             Roberts          3 -0.202978 -0.134566\n",
      "75            Robinson          3  0.672985  0.081453\n",
      "76           Rodriguez          3 -0.403273  0.786296\n",
      "77              Rogers          3  0.377123 -0.791758\n",
      "78                Ross          0  0.210842  0.123742\n",
      "79             Russell          3 -0.273058  0.593281\n",
      "80             Sanchez          3 -1.077511 -0.229397\n",
      "81             Sanders          3 -1.274329 -0.114296\n",
      "82               Scott          3 -0.418022 -0.206640\n",
      "83               Smith          2 -0.300227  0.829765\n",
      "84             Stewart          0  1.068574  0.001366\n",
      "85            Sullivan          0  0.733742  0.058949\n",
      "86              Taylor          0  1.351253 -0.017026\n",
      "87              Thomas          0 -1.041879  0.122314\n",
      "88            Thompson          3  0.135104  0.036918\n",
      "89              Torres          3  0.281381  0.075254\n",
      "90              Turner          3 -0.632199 -0.651152\n",
      "91              Walker          0  0.600737  0.197156\n",
      "92                Ward          3 -0.226293  0.036352\n",
      "93              Watson          3  0.672985  0.081453\n",
      "94               White          3 -0.050484 -0.452883\n",
      "95            Williams          0 -0.151666 -0.587844\n",
      "96              Wilson          3  0.688224 -0.013688\n",
      "97                Wood          3 -0.551215 -0.395670\n",
      "98              Wright          3 -0.489805 -0.383307\n",
      "99               Young          0 -0.881994 -1.041788\n",
      "\n",
      "[100 rows x 4 columns]\n"
     ]
    }
   ],
   "source": [
    "from sklearn.decomposition import PCA\n",
    "\n",
    "pca = PCA(n_components=2)\n",
    "matrix['x'] = pca.fit_transform(matrix[x_cols])[:,0]\n",
    "matrix['y'] = pca.fit_transform(matrix[x_cols])[:,1]\n",
    "matrix = matrix.reset_index()\n",
    "\n",
    "customer_clusters = matrix[['customer_name', 'cluster_1', 'x', 'y']]\n",
    "print customer_clusters"
   ]
  },
  {
   "cell_type": "code",
   "execution_count": 27,
   "metadata": {
    "collapsed": false
   },
   "outputs": [
    {
     "data": {
      "text/plain": [
       "3    60\n",
       "0    28\n",
       "1     7\n",
       "2     5\n",
       "Name: cluster_1, dtype: int64"
      ]
     },
     "execution_count": 27,
     "metadata": {},
     "output_type": "execute_result"
    }
   ],
   "source": [
    "customer_clusters.cluster_1.value_counts()"
   ]
  },
  {
   "cell_type": "code",
   "execution_count": 29,
   "metadata": {
    "collapsed": false
   },
   "outputs": [
    {
     "data": {
      "text/plain": [
       "<matplotlib.text.Text at 0xe86b080>"
      ]
     },
     "execution_count": 29,
     "metadata": {},
     "output_type": "execute_result"
    },
    {
     "data": {
      "image/png": "[encoded data removed]",
      "text/plain": [
       "<matplotlib.figure.Figure at 0xe792128>"
      ]
     },
     "metadata": {},
     "output_type": "display_data"
    }
   ],
   "source": [
    "#https://chrisalbon.com/python/seaborn_scatterplot.html\n",
    "\n",
    "sns.lmplot('x', 'y',\n",
    "           data=customer_clusters,\n",
    "           fit_reg=False,\n",
    "           hue='cluster_1',  \n",
    "           scatter_kws={\"marker\": \"D\",\n",
    "                        \"s\": 100})\n",
    "plt.title('Customer Segmentation')\n",
    "plt.xlabel('x')\n",
    "plt.ylabel('y')"
   ]
  },
  {
   "cell_type": "markdown",
   "metadata": {},
   "source": [
    "# Second Iteration of E Step and M Step <a id='second'></a>"
   ]
  },
  {
   "cell_type": "code",
   "execution_count": 30,
   "metadata": {
    "collapsed": true
   },
   "outputs": [],
   "source": [
    "ps = GM.Estep(data, mus, Sigmas, phi)\n",
    "mus, Sigmas, phi = GM.Mstep(ps, data, reg)"
   ]
  },
  {
   "cell_type": "code",
   "execution_count": 31,
   "metadata": {
    "collapsed": true
   },
   "outputs": [],
   "source": [
    "cluster_2 = np.argmax(ps, axis = 1)"
   ]
  },
  {
   "cell_type": "code",
   "execution_count": 32,
   "metadata": {
    "collapsed": false
   },
   "outputs": [
    {
     "name": "stdout",
     "output_type": "stream",
     "text": [
      "offer_id customer_name  cluster_1  cluster_2         x         y\n",
      "0                Adams          0          0  1.007580  0.108215\n",
      "1                Allen          1          1 -0.287539  0.044715\n",
      "2             Anderson          2          2 -0.392032  1.038391\n",
      "3               Bailey          3          0  0.699477 -0.022542\n",
      "4                Baker          3          3  0.088183 -0.471695\n",
      "5               Barnes          3          3 -0.485282 -0.725503\n",
      "6                 Bell          3          2 -0.591941  1.506500\n",
      "7              Bennett          0          0  0.661732  0.090308\n",
      "8               Brooks          0          2 -0.118943 -0.577499\n",
      "9                Brown          3          0  1.079827 -0.007488\n",
      "10              Butler          3          3 -0.240431 -0.617026\n",
      "11            Campbell          2          2 -0.522247  1.231406\n",
      "12              Carter          3          0  1.260763 -0.014255\n",
      "13               Clark          3          3 -0.579221 -0.420475\n",
      "14             Collins          3          3  0.193998  0.010306\n",
      "15                Cook          2          2 -0.392032  1.038391\n",
      "16              Cooper          3          3 -0.406276 -0.045771\n",
      "17                 Cox          3          2 -0.591941  1.506500\n",
      "18                Cruz          0          0  0.736155  0.117752\n",
      "19               Davis          0          0 -0.349057 -0.267081\n",
      "20                Diaz          3          0  1.412247 -0.123874\n",
      "21             Edwards          1          1  0.181048 -0.020653\n",
      "22               Evans          1          1 -0.371485 -0.348007\n",
      "23              Fisher          3          3 -0.509137 -0.687321\n",
      "24              Flores          3          2 -0.239706  0.911844\n",
      "25              Foster          1          1 -0.782355 -0.518475\n",
      "26              Garcia          3          3 -0.299666  0.006964\n",
      "27               Gomez          3          3 -0.412830 -0.012199\n",
      "28            Gonzalez          1          1 -0.339146 -0.185585\n",
      "29                Gray          3          2 -0.330960  0.607623\n",
      "..                 ...        ...        ...       ...       ...\n",
      "70                Reed          3          0 -0.252065  0.100076\n",
      "71               Reyes          3          1 -0.266650  0.097532\n",
      "72          Richardson          3          3 -0.443190 -0.634112\n",
      "73              Rivera          3          0  0.564060  0.056861\n",
      "74             Roberts          3          3 -0.202978 -0.134566\n",
      "75            Robinson          3          0  0.672985  0.081453\n",
      "76           Rodriguez          3          2 -0.403273  0.786296\n",
      "77              Rogers          3          3  0.377123 -0.791758\n",
      "78                Ross          0          0  0.210842  0.123742\n",
      "79             Russell          3          2 -0.273058  0.593281\n",
      "80             Sanchez          3          3 -1.077511 -0.229397\n",
      "81             Sanders          3          2 -1.274329 -0.114296\n",
      "82               Scott          3          3 -0.418022 -0.206640\n",
      "83               Smith          2          2 -0.300227  0.829765\n",
      "84             Stewart          0          0  1.068574  0.001366\n",
      "85            Sullivan          0          2  0.733742  0.058949\n",
      "86              Taylor          0          0  1.351253 -0.017026\n",
      "87              Thomas          0          2 -1.041879  0.122314\n",
      "88            Thompson          3          3  0.135104  0.036918\n",
      "89              Torres          3          1  0.281381  0.075254\n",
      "90              Turner          3          3 -0.632199 -0.651152\n",
      "91              Walker          0          0  0.600737  0.197156\n",
      "92                Ward          3          3 -0.226293  0.036352\n",
      "93              Watson          3          0  0.672985  0.081453\n",
      "94               White          3          3 -0.050484 -0.452883\n",
      "95            Williams          0          0 -0.151666 -0.587844\n",
      "96              Wilson          3          0  0.688224 -0.013688\n",
      "97                Wood          3          2 -0.551215 -0.395670\n",
      "98              Wright          3          3 -0.489805 -0.383307\n",
      "99               Young          0          0 -0.881994 -1.041788\n",
      "\n",
      "[100 rows x 5 columns]\n"
     ]
    }
   ],
   "source": [
    "matrix['cluster_2'] = cluster_2\n",
    "customer_clusters = matrix[['customer_name', 'cluster_1','cluster_2', 'x', 'y']]\n",
    "print customer_clusters"
   ]
  },
  {
   "cell_type": "code",
   "execution_count": 33,
   "metadata": {
    "collapsed": false
   },
   "outputs": [
    {
     "data": {
      "text/plain": [
       "0    36\n",
       "3    31\n",
       "2    21\n",
       "1    12\n",
       "Name: cluster_2, dtype: int64"
      ]
     },
     "execution_count": 33,
     "metadata": {},
     "output_type": "execute_result"
    }
   ],
   "source": [
    "customer_clusters.cluster_2.value_counts()"
   ]
  },
  {
   "cell_type": "code",
   "execution_count": 34,
   "metadata": {
    "collapsed": false
   },
   "outputs": [
    {
     "data": {
      "text/plain": [
       "<matplotlib.text.Text at 0xbd16b70>"
      ]
     },
     "execution_count": 34,
     "metadata": {},
     "output_type": "execute_result"
    },
    {
     "data": {
      "image/png": "[encoded data removed]",
      "text/plain": [
       "<matplotlib.figure.Figure at 0xe8b8da0>"
      ]
     },
     "metadata": {},
     "output_type": "display_data"
    }
   ],
   "source": [
    "sns.lmplot('x', 'y',\n",
    "           data=customer_clusters,\n",
    "           fit_reg=False,\n",
    "           hue='cluster_2',  \n",
    "           scatter_kws={\"marker\": \"D\",\n",
    "                        \"s\": 100})\n",
    "plt.title('Customer Segmentation')\n",
    "plt.xlabel('x')\n",
    "plt.ylabel('y')"
   ]
  },
  {
   "cell_type": "markdown",
   "metadata": {},
   "source": [
    "# Third Iteration of E Step and M Step <a id='third'></a>"
   ]
  },
  {
   "cell_type": "code",
   "execution_count": 35,
   "metadata": {
    "collapsed": false
   },
   "outputs": [
    {
     "name": "stdout",
     "output_type": "stream",
     "text": [
      "0    36\n",
      "3    31\n",
      "2    21\n",
      "1    12\n",
      "Name: cluster_3, dtype: int64\n"
     ]
    }
   ],
   "source": [
    "ps = GM.Estep(data, mus, Sigmas, phi)\n",
    "mus, Sigmas, phi = GM.Mstep(ps, data, reg)\n",
    "cluster_3 = np.argmax(ps, axis = 1)\n",
    "matrix['cluster_3'] = cluster_3\n",
    "customer_clusters = matrix[['customer_name', 'cluster_1','cluster_2', 'cluster_3','x', 'y']]\n",
    "print customer_clusters.cluster_3.value_counts()"
   ]
  },
  {
   "cell_type": "code",
   "execution_count": 36,
   "metadata": {
    "collapsed": false
   },
   "outputs": [
    {
     "data": {
      "text/html": [
       "<div>\n",
       "<table border=\"1\" class=\"dataframe\">\n",
       "  <thead>\n",
       "    <tr style=\"text-align: right;\">\n",
       "      <th>offer_id</th>\n",
       "      <th>customer_name</th>\n",
       "      <th>cluster_1</th>\n",
       "      <th>cluster_2</th>\n",
       "      <th>cluster_3</th>\n",
       "      <th>x</th>\n",
       "      <th>y</th>\n",
       "    </tr>\n",
       "  </thead>\n",
       "  <tbody>\n",
       "    <tr>\n",
       "      <th>0</th>\n",
       "      <td>Adams</td>\n",
       "      <td>0</td>\n",
       "      <td>0</td>\n",
       "      <td>0</td>\n",
       "      <td>1.007580</td>\n",
       "      <td>0.108215</td>\n",
       "    </tr>\n",
       "    <tr>\n",
       "      <th>1</th>\n",
       "      <td>Allen</td>\n",
       "      <td>1</td>\n",
       "      <td>1</td>\n",
       "      <td>1</td>\n",
       "      <td>-0.287539</td>\n",
       "      <td>0.044715</td>\n",
       "    </tr>\n",
       "    <tr>\n",
       "      <th>2</th>\n",
       "      <td>Anderson</td>\n",
       "      <td>2</td>\n",
       "      <td>2</td>\n",
       "      <td>2</td>\n",
       "      <td>-0.392032</td>\n",
       "      <td>1.038391</td>\n",
       "    </tr>\n",
       "    <tr>\n",
       "      <th>3</th>\n",
       "      <td>Bailey</td>\n",
       "      <td>3</td>\n",
       "      <td>0</td>\n",
       "      <td>0</td>\n",
       "      <td>0.699477</td>\n",
       "      <td>-0.022542</td>\n",
       "    </tr>\n",
       "    <tr>\n",
       "      <th>4</th>\n",
       "      <td>Baker</td>\n",
       "      <td>3</td>\n",
       "      <td>3</td>\n",
       "      <td>3</td>\n",
       "      <td>0.088183</td>\n",
       "      <td>-0.471695</td>\n",
       "    </tr>\n",
       "  </tbody>\n",
       "</table>\n",
       "</div>"
      ],
      "text/plain": [
       "offer_id customer_name  cluster_1  cluster_2  cluster_3         x         y\n",
       "0                Adams          0          0          0  1.007580  0.108215\n",
       "1                Allen          1          1          1 -0.287539  0.044715\n",
       "2             Anderson          2          2          2 -0.392032  1.038391\n",
       "3               Bailey          3          0          0  0.699477 -0.022542\n",
       "4                Baker          3          3          3  0.088183 -0.471695"
      ]
     },
     "execution_count": 36,
     "metadata": {},
     "output_type": "execute_result"
    }
   ],
   "source": [
    "customer_clusters.head()"
   ]
  },
  {
   "cell_type": "code",
   "execution_count": 37,
   "metadata": {
    "collapsed": false
   },
   "outputs": [
    {
     "data": {
      "text/plain": [
       "<matplotlib.text.Text at 0xeb27710>"
      ]
     },
     "execution_count": 37,
     "metadata": {},
     "output_type": "execute_result"
    },
    {
     "data": {
      "image/png": "[encoded data removed]",
      "text/plain": [
       "<matplotlib.figure.Figure at 0xe82f668>"
      ]
     },
     "metadata": {},
     "output_type": "display_data"
    }
   ],
   "source": [
    "sns.lmplot('x', 'y',\n",
    "           data=customer_clusters,\n",
    "           fit_reg=False,\n",
    "           hue='cluster_3',  \n",
    "           scatter_kws={\"marker\": \"D\",\n",
    "                        \"s\": 100})\n",
    "plt.title('Customer Segmentation')\n",
    "plt.xlabel('x')\n",
    "plt.ylabel('y')"
   ]
  },
  {
   "cell_type": "markdown",
   "metadata": {},
   "source": [
    "# The Iterative Process <a id='general'></a>"
   ]
  },
  {
   "cell_type": "code",
   "execution_count": 38,
   "metadata": {
    "collapsed": false
   },
   "outputs": [
    {
     "name": "stdout",
     "output_type": "stream",
     "text": [
      "0    36\n",
      "3    31\n",
      "2    21\n",
      "1    12\n",
      "Name: cluster_final, dtype: int64\n"
     ]
    },
    {
     "data": {
      "text/html": [
       "<div>\n",
       "<table border=\"1\" class=\"dataframe\">\n",
       "  <thead>\n",
       "    <tr style=\"text-align: right;\">\n",
       "      <th>offer_id</th>\n",
       "      <th>customer_name</th>\n",
       "      <th>cluster_1</th>\n",
       "      <th>cluster_2</th>\n",
       "      <th>cluster_3</th>\n",
       "      <th>cluster_final</th>\n",
       "      <th>x</th>\n",
       "      <th>y</th>\n",
       "    </tr>\n",
       "  </thead>\n",
       "  <tbody>\n",
       "    <tr>\n",
       "      <th>0</th>\n",
       "      <td>Adams</td>\n",
       "      <td>0</td>\n",
       "      <td>0</td>\n",
       "      <td>0</td>\n",
       "      <td>0</td>\n",
       "      <td>1.007580</td>\n",
       "      <td>0.108215</td>\n",
       "    </tr>\n",
       "    <tr>\n",
       "      <th>1</th>\n",
       "      <td>Allen</td>\n",
       "      <td>1</td>\n",
       "      <td>1</td>\n",
       "      <td>1</td>\n",
       "      <td>1</td>\n",
       "      <td>-0.287539</td>\n",
       "      <td>0.044715</td>\n",
       "    </tr>\n",
       "    <tr>\n",
       "      <th>2</th>\n",
       "      <td>Anderson</td>\n",
       "      <td>2</td>\n",
       "      <td>2</td>\n",
       "      <td>2</td>\n",
       "      <td>2</td>\n",
       "      <td>-0.392032</td>\n",
       "      <td>1.038391</td>\n",
       "    </tr>\n",
       "    <tr>\n",
       "      <th>3</th>\n",
       "      <td>Bailey</td>\n",
       "      <td>3</td>\n",
       "      <td>0</td>\n",
       "      <td>0</td>\n",
       "      <td>0</td>\n",
       "      <td>0.699477</td>\n",
       "      <td>-0.022542</td>\n",
       "    </tr>\n",
       "    <tr>\n",
       "      <th>4</th>\n",
       "      <td>Baker</td>\n",
       "      <td>3</td>\n",
       "      <td>3</td>\n",
       "      <td>3</td>\n",
       "      <td>3</td>\n",
       "      <td>0.088183</td>\n",
       "      <td>-0.471695</td>\n",
       "    </tr>\n",
       "  </tbody>\n",
       "</table>\n",
       "</div>"
      ],
      "text/plain": [
       "offer_id customer_name  cluster_1  cluster_2  cluster_3  cluster_final  \\\n",
       "0                Adams          0          0          0              0   \n",
       "1                Allen          1          1          1              1   \n",
       "2             Anderson          2          2          2              2   \n",
       "3               Bailey          3          0          0              0   \n",
       "4                Baker          3          3          3              3   \n",
       "\n",
       "offer_id         x         y  \n",
       "0         1.007580  0.108215  \n",
       "1        -0.287539  0.044715  \n",
       "2        -0.392032  1.038391  \n",
       "3         0.699477 -0.022542  \n",
       "4         0.088183 -0.471695  "
      ]
     },
     "execution_count": 38,
     "metadata": {},
     "output_type": "execute_result"
    }
   ],
   "source": [
    "mus, Sigmas, phi = GM.train(data, mus, Sigmas, phi, niters = 150, reg=1e-4)\n",
    "ps = GM.Estep(data, mus, Sigmas, phi)\n",
    "cluster_final = np.argmax(ps, axis = 1)\n",
    "matrix['cluster_final'] = cluster_final\n",
    "customer_clusters = matrix[['customer_name', 'cluster_1', 'cluster_2', 'cluster_3', 'cluster_final','x', 'y']]\n",
    "print customer_clusters.cluster_final.value_counts()\n",
    "customer_clusters.head()"
   ]
  },
  {
   "cell_type": "code",
   "execution_count": 39,
   "metadata": {
    "collapsed": false
   },
   "outputs": [
    {
     "data": {
      "text/plain": [
       "<matplotlib.text.Text at 0xee7d7f0>"
      ]
     },
     "execution_count": 39,
     "metadata": {},
     "output_type": "execute_result"
    },
    {
     "data": {
      "image/png": "[encoded data removed]",
      "text/plain": [
       "<matplotlib.figure.Figure at 0xbae3668>"
      ]
     },
     "metadata": {},
     "output_type": "display_data"
    }
   ],
   "source": [
    "sns.lmplot('x', 'y',\n",
    "           data=customer_clusters,\n",
    "           fit_reg=False,\n",
    "           hue='cluster_final',  \n",
    "           scatter_kws={\"marker\": \"D\",\n",
    "                        \"s\": 100})\n",
    "plt.title('Customer Segmentation')\n",
    "plt.xlabel('x')\n",
    "plt.ylabel('y')"
   ]
  },
  {
   "cell_type": "markdown",
   "metadata": {},
   "source": [
    "# Additional Analysis of Clusters and Business Findings <a id='business'></a>"
   ]
  },
  {
   "cell_type": "code",
   "execution_count": 40,
   "metadata": {
    "collapsed": false
   },
   "outputs": [
    {
     "data": {
      "text/html": [
       "<div>\n",
       "<table border=\"1\" class=\"dataframe\">\n",
       "  <thead>\n",
       "    <tr style=\"text-align: right;\">\n",
       "      <th></th>\n",
       "      <th>offer_id</th>\n",
       "      <th>campaign</th>\n",
       "      <th>product_type</th>\n",
       "      <th>level_emphasis_premium_savings</th>\n",
       "      <th>level_emphasis_neighborhood_agent</th>\n",
       "      <th>customer_name</th>\n",
       "      <th>n</th>\n",
       "      <th>cluster_1</th>\n",
       "      <th>cluster_2</th>\n",
       "      <th>cluster_3</th>\n",
       "      <th>cluster_final</th>\n",
       "      <th>x</th>\n",
       "      <th>y</th>\n",
       "    </tr>\n",
       "  </thead>\n",
       "  <tbody>\n",
       "    <tr>\n",
       "      <th>0</th>\n",
       "      <td>1</td>\n",
       "      <td>January</td>\n",
       "      <td>Product 1</td>\n",
       "      <td>7</td>\n",
       "      <td>5</td>\n",
       "      <td>Thomas</td>\n",
       "      <td>1</td>\n",
       "      <td>0</td>\n",
       "      <td>2</td>\n",
       "      <td>2</td>\n",
       "      <td>2</td>\n",
       "      <td>-1.041879</td>\n",
       "      <td>0.122314</td>\n",
       "    </tr>\n",
       "    <tr>\n",
       "      <th>1</th>\n",
       "      <td>1</td>\n",
       "      <td>January</td>\n",
       "      <td>Product 1</td>\n",
       "      <td>7</td>\n",
       "      <td>5</td>\n",
       "      <td>Jackson</td>\n",
       "      <td>1</td>\n",
       "      <td>3</td>\n",
       "      <td>3</td>\n",
       "      <td>3</td>\n",
       "      <td>3</td>\n",
       "      <td>-0.839578</td>\n",
       "      <td>-0.328823</td>\n",
       "    </tr>\n",
       "    <tr>\n",
       "      <th>2</th>\n",
       "      <td>1</td>\n",
       "      <td>January</td>\n",
       "      <td>Product 1</td>\n",
       "      <td>7</td>\n",
       "      <td>5</td>\n",
       "      <td>Mitchell</td>\n",
       "      <td>1</td>\n",
       "      <td>3</td>\n",
       "      <td>3</td>\n",
       "      <td>3</td>\n",
       "      <td>3</td>\n",
       "      <td>-0.342938</td>\n",
       "      <td>0.302186</td>\n",
       "    </tr>\n",
       "    <tr>\n",
       "      <th>3</th>\n",
       "      <td>1</td>\n",
       "      <td>January</td>\n",
       "      <td>Product 1</td>\n",
       "      <td>7</td>\n",
       "      <td>5</td>\n",
       "      <td>Peterson</td>\n",
       "      <td>1</td>\n",
       "      <td>0</td>\n",
       "      <td>0</td>\n",
       "      <td>0</td>\n",
       "      <td>0</td>\n",
       "      <td>-0.797379</td>\n",
       "      <td>0.475995</td>\n",
       "    </tr>\n",
       "    <tr>\n",
       "      <th>4</th>\n",
       "      <td>1</td>\n",
       "      <td>January</td>\n",
       "      <td>Product 1</td>\n",
       "      <td>7</td>\n",
       "      <td>5</td>\n",
       "      <td>Wood</td>\n",
       "      <td>1</td>\n",
       "      <td>3</td>\n",
       "      <td>2</td>\n",
       "      <td>2</td>\n",
       "      <td>2</td>\n",
       "      <td>-0.551215</td>\n",
       "      <td>-0.395670</td>\n",
       "    </tr>\n",
       "  </tbody>\n",
       "</table>\n",
       "</div>"
      ],
      "text/plain": [
       "   offer_id campaign product_type  level_emphasis_premium_savings  \\\n",
       "0         1  January    Product 1                               7   \n",
       "1         1  January    Product 1                               7   \n",
       "2         1  January    Product 1                               7   \n",
       "3         1  January    Product 1                               7   \n",
       "4         1  January    Product 1                               7   \n",
       "\n",
       "   level_emphasis_neighborhood_agent customer_name  n  cluster_1  cluster_2  \\\n",
       "0                                  5        Thomas  1          0          2   \n",
       "1                                  5       Jackson  1          3          3   \n",
       "2                                  5      Mitchell  1          3          3   \n",
       "3                                  5      Peterson  1          0          0   \n",
       "4                                  5          Wood  1          3          2   \n",
       "\n",
       "   cluster_3  cluster_final         x         y  \n",
       "0          2              2 -1.041879  0.122314  \n",
       "1          3              3 -0.839578 -0.328823  \n",
       "2          3              3 -0.342938  0.302186  \n",
       "3          0              0 -0.797379  0.475995  \n",
       "4          2              2 -0.551215 -0.395670  "
      ]
     },
     "execution_count": 40,
     "metadata": {},
     "output_type": "execute_result"
    }
   ],
   "source": [
    "df = pd.merge(df_transactions, customer_clusters)\n",
    "df = pd.merge(df_offers, df)\n",
    "df.head()"
   ]
  },
  {
   "cell_type": "code",
   "execution_count": 41,
   "metadata": {
    "collapsed": false
   },
   "outputs": [
    {
     "name": "stdout",
     "output_type": "stream",
     "text": [
      "is_0   product_type\n",
      "False  Product 4       66\n",
      "       Product 2       42\n",
      "       Product 5       26\n",
      "       Product 7       24\n",
      "       Product 1       15\n",
      "       Product 3       14\n",
      "       Product 6       13\n",
      "       Product 8       13\n",
      "True   Product 3       26\n",
      "       Product 7       19\n",
      "       Product 1       17\n",
      "       Product 9       17\n",
      "       Product 4       15\n",
      "       Product 8        7\n",
      "       Product 5        6\n",
      "       Product 2        2\n",
      "       Product 6        2\n",
      "Name: product_type, dtype: int64\n"
     ]
    }
   ],
   "source": [
    "df['is_0'] = df.cluster_final==0\n",
    "print df.groupby(\"is_0\").product_type.value_counts()\n"
   ]
  },
  {
   "cell_type": "code",
   "execution_count": 43,
   "metadata": {
    "collapsed": false
   },
   "outputs": [
    {
     "name": "stdout",
     "output_type": "stream",
     "text": [
      "       level_emphasis_premium_savings  level_emphasis_neighborhood_agent\n",
      "is_0                                                                    \n",
      "False                        6.051643                           5.436620\n",
      "True                         2.261261                           5.513514\n",
      "       level_emphasis_premium_savings  level_emphasis_neighborhood_agent\n",
      "is_0                                                                    \n",
      "False                               7                                  5\n",
      "True                                0                                  5\n"
     ]
    }
   ],
   "source": [
    "print df.groupby(\"is_0\")[['level_emphasis_premium_savings', 'level_emphasis_neighborhood_agent']].mean()\n",
    "print df.groupby(\"is_0\")[['level_emphasis_premium_savings', 'level_emphasis_neighborhood_agent']].median() #group 0 likes offers with smaller quantities"
   ]
  },
  {
   "cell_type": "code",
   "execution_count": 45,
   "metadata": {
    "collapsed": false
   },
   "outputs": [
    {
     "name": "stdout",
     "output_type": "stream",
     "text": [
      "is_1   product_type\n",
      "False  Product 4       70\n",
      "       Product 2       44\n",
      "       Product 7       42\n",
      "       Product 3       35\n",
      "       Product 1       31\n",
      "       Product 5       31\n",
      "       Product 8       18\n",
      "       Product 9       17\n",
      "       Product 6        7\n",
      "True   Product 4       11\n",
      "       Product 6        8\n",
      "       Product 3        5\n",
      "       Product 8        2\n",
      "       Product 1        1\n",
      "       Product 5        1\n",
      "       Product 7        1\n",
      "Name: product_type, dtype: int64\n"
     ]
    }
   ],
   "source": [
    "df['is_1'] = df.cluster_final==1\n",
    "print df.groupby(\"is_1\").product_type.value_counts()  "
   ]
  },
  {
   "cell_type": "code",
   "execution_count": 46,
   "metadata": {
    "collapsed": false
   },
   "outputs": [
    {
     "name": "stdout",
     "output_type": "stream",
     "text": [
      "       level_emphasis_premium_savings  level_emphasis_neighborhood_agent\n",
      "is_1                                                                    \n",
      "False                        4.515254                           5.454237\n",
      "True                         7.172414                           5.551724\n",
      "       level_emphasis_premium_savings  level_emphasis_neighborhood_agent\n",
      "is_1                                                                    \n",
      "False                               7                                  5\n",
      "True                                7                                  5\n"
     ]
    }
   ],
   "source": [
    "print df.groupby(\"is_1\")[['level_emphasis_premium_savings', 'level_emphasis_neighborhood_agent']].mean()\n",
    "print df.groupby(\"is_1\")[['level_emphasis_premium_savings', 'level_emphasis_neighborhood_agent']].median() #nothing too significant, one order must have skewed the mean"
   ]
  },
  {
   "cell_type": "code",
   "execution_count": 47,
   "metadata": {
    "collapsed": false
   },
   "outputs": [
    {
     "name": "stdout",
     "output_type": "stream",
     "text": [
      "is_2   product_type\n",
      "False  Product 4       74\n",
      "       Product 7       39\n",
      "       Product 3       36\n",
      "       Product 1       29\n",
      "       Product 5       27\n",
      "       Product 9       17\n",
      "       Product 8       16\n",
      "       Product 6       13\n",
      "       Product 2        7\n",
      "True   Product 2       37\n",
      "       Product 4        7\n",
      "       Product 5        5\n",
      "       Product 3        4\n",
      "       Product 7        4\n",
      "       Product 8        4\n",
      "       Product 1        3\n",
      "       Product 6        2\n",
      "Name: product_type, dtype: int64\n"
     ]
    }
   ],
   "source": [
    "df['is_2'] = df.cluster_final==2\n",
    "print df.groupby(\"is_2\").product_type.value_counts() "
   ]
  },
  {
   "cell_type": "code",
   "execution_count": 48,
   "metadata": {
    "collapsed": false
   },
   "outputs": [
    {
     "name": "stdout",
     "output_type": "stream",
     "text": [
      "       level_emphasis_premium_savings  level_emphasis_neighborhood_agent\n",
      "is_2                                                                    \n",
      "False                        4.589147                           5.542636\n",
      "True                         5.393939                           5.151515\n",
      "       level_emphasis_premium_savings  level_emphasis_neighborhood_agent\n",
      "is_2                                                                    \n",
      "False                               7                                  5\n",
      "True                                7                                  5\n"
     ]
    }
   ],
   "source": [
    "print df.groupby(\"is_2\")[['level_emphasis_premium_savings', 'level_emphasis_neighborhood_agent']].mean()\n",
    "print df.groupby(\"is_2\")[['level_emphasis_premium_savings', 'level_emphasis_neighborhood_agent']].median() #nothing too significant, care about discount a little less"
   ]
  },
  {
   "cell_type": "code",
   "execution_count": 49,
   "metadata": {
    "collapsed": false
   },
   "outputs": [
    {
     "name": "stdout",
     "output_type": "stream",
     "text": [
      "is_3   product_type\n",
      "False  Product 2       39\n",
      "       Product 3       35\n",
      "       Product 4       33\n",
      "       Product 7       24\n",
      "       Product 1       21\n",
      "       Product 9       17\n",
      "       Product 8       13\n",
      "       Product 5       12\n",
      "       Product 6       12\n",
      "True   Product 4       48\n",
      "       Product 5       20\n",
      "       Product 7       19\n",
      "       Product 1       11\n",
      "       Product 8        7\n",
      "       Product 2        5\n",
      "       Product 3        5\n",
      "       Product 6        3\n",
      "Name: product_type, dtype: int64\n"
     ]
    }
   ],
   "source": [
    "df['is_3'] = df.cluster_final==3\n",
    "print df.groupby(\"is_3\").product_type.value_counts() "
   ]
  },
  {
   "cell_type": "code",
   "execution_count": 50,
   "metadata": {
    "collapsed": false
   },
   "outputs": [
    {
     "name": "stdout",
     "output_type": "stream",
     "text": [
      "       level_emphasis_premium_savings  level_emphasis_neighborhood_agent\n",
      "is_3                                                                    \n",
      "False                        3.956311                           5.402913\n",
      "True                         6.144068                           5.567797\n",
      "       level_emphasis_premium_savings  level_emphasis_neighborhood_agent\n",
      "is_3                                                                    \n",
      "False                               1                                  5\n",
      "True                                7                                  5\n"
     ]
    }
   ],
   "source": [
    "print df.groupby(\"is_3\")[['level_emphasis_premium_savings', 'level_emphasis_neighborhood_agent']].mean()\n",
    "print df.groupby(\"is_3\")[['level_emphasis_premium_savings', 'level_emphasis_neighborhood_agent']].median() #buys larger quantities"
   ]
  },
  {
   "cell_type": "markdown",
   "metadata": {},
   "source": [
    "# Applications for Other Domains<a id='other'></a>"
   ]
  },
  {
   "cell_type": "markdown",
   "metadata": {},
   "source": [
    "Market segmentation for the financial sector\n",
    "\n",
    "Anomaly detection of transactions\n",
    "\n",
    "News clustering (TF-IDF)\n",
    "\n",
    "Medical image segmentation\n",
    "\n",
    "etc.\n"
   ]
  },
  {
   "cell_type": "markdown",
   "metadata": {},
   "source": [
    "# Sources<a id='sources'></a>"
   ]
  },
  {
   "cell_type": "markdown",
   "metadata": {},
   "source": [
    "http://blog.yhat.com/posts/customer-segmentation-using-python.html\n",
    "\n",
    "http://ieeexplore.ieee.org/document/1633722/?reload=true\n",
    "\n",
    "http://www.nature.com/nbt/journal/v26/n8/full/nbt1406.html#f1\n",
    "\n",
    "https://www.researchgate.net/post/How_does_GMM_work_in_principle  \n",
    "\n",
    "http://datasciencecourse.org/anomaly_detection.pdf \n",
    "\n",
    "http://cs229.stanford.edu/notes/cs229-notes8.pdf \n"
   ]
  }
 ],
 "metadata": {
  "kernelspec": {
   "display_name": "Python [Root]",
   "language": "python",
   "name": "Python [Root]"
  },
  "language_info": {
   "codemirror_mode": {
    "name": "ipython",
    "version": 2
   },
   "file_extension": ".py",
   "mimetype": "text/x-python",
   "name": "python",
   "nbconvert_exporter": "python",
   "pygments_lexer": "ipython2",
   "version": "2.7.12"
  }
 },
 "nbformat": 4,
 "nbformat_minor": 2
}
